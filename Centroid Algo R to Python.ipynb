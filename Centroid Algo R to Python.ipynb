{
 "cells": [
  {
   "cell_type": "code",
   "execution_count": 33,
   "metadata": {},
   "outputs": [],
   "source": [
    "# Ali's version\n",
    "\n",
    "# Aim: take a matrix representing a convex polygon, return its centroid,\n",
    "# demonstrate how algorithms work\n",
    "\n",
    "# Pre-requisite: an input object named poly_mat with 2 columns representing\n",
    "# vertices of a polygon, with 1st and last rows identical\n",
    "\n",
    "import numpy as np\n",
    "import itertools\n",
    "\n",
    "x = (0,0,9,9,0)\n",
    "y = (0,9,9,0,0)\n",
    "poly_mat = np.c_[x,y]\n",
    "\n",
    "# check to see if object is provided; else make a standard one\n",
    "def check(poly_mat):\n",
    "    if poly_mat:\n",
    "        return(poly_mat)\n",
    "    else:\n",
    "        print(\"No poly_mat object provided, creating object representing a 9 by 9 square\")\n",
    "        x = (0,0,9,9,0)\n",
    "        y = (0,9,9,0,0)\n",
    "        return(np.c_[x,y]);"
   ]
  },
  {
   "cell_type": "code",
   "execution_count": 53,
   "metadata": {},
   "outputs": [],
   "source": [
    "# Step 1: create sub-triangles, set-up\n",
    "\n",
    "origin = poly_mat[0] # create point for origin\n",
    "i = range(1, len(poly_mat) - 2)\n",
    "T_all = [] # will store sub-triangles\n",
    "\n",
    "# point we (successfully) reached in class\n",
    "\n",
    "# create sub-triangles\n",
    "for x in i:\n",
    "    trg = []\n",
    "    trg.append(origin)\n",
    "    trg.append(poly_mat[x])\n",
    "    trg.append(poly_mat[x+1])\n",
    "    trg.append(origin)\n",
    "    T_all.append(trg)"
   ]
  },
  {
   "cell_type": "code",
   "execution_count": 118,
   "metadata": {},
   "outputs": [],
   "source": [
    "# Step 2: calculate triangle centroids\n",
    "c = []\n",
    "def centroid(T_all):\n",
    "    for trg in T_all:\n",
    "        x = 0\n",
    "        y = 0\n",
    "        for i in trg:\n",
    "            x = i[0] + x\n",
    "            y = i[1] + y\n",
    "        c_list = ((x/3), y/3)\n",
    "        c.append(c_list)\n",
    "    return(c)\n",
    "c = centroid(T_all)"
   ]
  },
  {
   "cell_type": "code",
   "execution_count": 119,
   "metadata": {},
   "outputs": [],
   "source": [
    "# Step 3: calculate triangle areas\n",
    "a = []\n",
    "def area(T_all):\n",
    "    for trg in T_all:\n",
    "        t1 = trg[0][0] * (trg[1][1] - trg[2][1])\n",
    "        t2 = trg[1][0] * (trg[2][1] - trg[0][1])\n",
    "        t3 = trg[2][0] * (trg[0][1] - trg[1][1])\n",
    "        a.append(abs((t1+t2+t3) / 2))\n",
    "    return(a)\n",
    "areas = area(T_all)"
   ]
  },
  {
   "cell_type": "code",
   "execution_count": 124,
   "metadata": {},
   "outputs": [
    {
     "name": "stdout",
     "output_type": "stream",
     "text": [
      "The area is: 81.0\n"
     ]
    }
   ],
   "source": [
    "# Step 4: calculate area-weighted centroid average\n",
    "poly_area = sum(areas)\n",
    "print(\"The area is:\", poly_area)\n",
    "\n",
    "poly_centroid = []\n",
    "def weighted_mean(c, areas):\n",
    "    x = 0\n",
    "    y = 0\n",
    "    for i in range(0, len(c)):\n",
    "        x_weighted = c[i][0] * areas[i] / poly_area\n",
    "        y_weighted = c[i][1] * areas[i] / poly_area\n",
    "        x = x + x_weighted\n",
    "        y = y + y_weighted\n",
    "    poly_centroid = [x, y]\n",
    "    return(poly_centroid)\n",
    "\n",
    "poly_centroid = weighted_mean(c, a)"
   ]
  },
  {
   "cell_type": "code",
   "execution_count": 126,
   "metadata": {},
   "outputs": [
    {
     "name": "stdout",
     "output_type": "stream",
     "text": [
      "The coordinates of the centroid are: ( 4.5 , 4.5 )\n"
     ]
    }
   ],
   "source": [
    "# Step 5: output results\n",
    "print(\n",
    "  \"The coordinates of the centroid are: (\",\n",
    "  round(poly_centroid[0], 1), \",\",\n",
    "  round(poly_centroid[1], 1), \")\"\n",
    ")"
   ]
  }
 ],
 "metadata": {
  "kernelspec": {
   "display_name": "Python 3",
   "language": "python",
   "name": "python3"
  },
  "language_info": {
   "codemirror_mode": {
    "name": "ipython",
    "version": 3
   },
   "file_extension": ".py",
   "mimetype": "text/x-python",
   "name": "python",
   "nbconvert_exporter": "python",
   "pygments_lexer": "ipython3",
   "version": "3.7.3"
  }
 },
 "nbformat": 4,
 "nbformat_minor": 2
}
